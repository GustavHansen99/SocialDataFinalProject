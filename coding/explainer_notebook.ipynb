{
 "cells": [
  {
   "attachments": {},
   "cell_type": "markdown",
   "metadata": {},
   "source": [
    "# **3-1-1 - Street Cleaning Requests in San Francisco**\n",
    "A deep dive into the defilement of San Francisco"
   ]
  },
  {
   "attachments": {},
   "cell_type": "markdown",
   "metadata": {},
   "source": [
    "# Table of Contents\n",
    "1. [Motivation](#Motivation)\n",
    "2. [Basic Statistics](#Basic-Statistics)\n",
    "    - [Dataset 1 - 311 Cases in San Francisco](#Dataset-1---311-Cases-in-San-Francisco)\n",
    "    - [Dataset 2 - Police Department Incident Reports: Historical 2003 to May 2018](#Dataset-2---Police-Department-Incident-Reports:-Historical-2003-to-May-2018)\n",
    "    - [Dataset 3 - Police Department Incident Reports: 2018 to Present](#Dataset-3---Police-Department-Incident-Reports:-2018-to-Present)\n",
    "3. [Data analysis](#Data-Analysis)\n",
    "4. [Genre](#genre)\n",
    "5. [Visualizations](#visualizations)\n",
    "    - [Total 311 requests over time (Bar chart)](#Total-311-requests-over-time-(Bar-chart))\n",
    "    - [Examples of requested cleaning tickets (Slideshow)](#Examples-of-requested-cleaning-tickets-(Slideshow))\n",
    "    - [Category-wise change in 311 requests over time (Time series)](#Category-wise-change-in-311-requests-over-time-(Time-series))\n",
    "    - [District-wise yearly 311 requests (Interactive map plot)](#District-wise-yearly-311-requests-(Interactive-map-plot))\n",
    "    - [District-wise yearly crime reports (Interactive map plot) (Comparison)](#District-wise-yearly-crime-reports-(Interactive-map-plot)-(Comparison))\n",
    "6. [Discussion](#discussion)\n",
    "7. [Contributions](#contributions)"
   ]
  },
  {
   "attachments": {},
   "cell_type": "markdown",
   "metadata": {},
   "source": [
    "This notebook serves as a behind-the-scenes explanation of our project. It is meant to be read as a supplement to our story on 3-1-1 Street Cleaning Requests in San Francisco that is posted [here](https://gustavhansen99.github.io/SocialDataFinalProject/) in the case that you felt more curious about the technical details of our project. However, it is not necessary to read this notebook in order to understand our website.\n",
    "\n",
    "In order to run the notebook all libraries defined below must be installed and loaded on your machine."
   ]
  },
  {
   "cell_type": "code",
   "execution_count": 12,
   "metadata": {},
   "outputs": [
    {
     "name": "stderr",
     "output_type": "stream",
     "text": [
      "/Users/Gustav/miniconda3/lib/python3.8/site-packages/requests/__init__.py:102: RequestsDependencyWarning:\n",
      "\n",
      "urllib3 (1.26.14) or chardet (5.1.0)/charset_normalizer (2.0.4) doesn't match a supported version!\n",
      "\n"
     ]
    }
   ],
   "source": [
    "# Data imports\n",
    "import pandas as pd\n",
    "import matplotlib.pyplot as plt\n",
    "\n",
    "\n",
    "# Slideshow imports\n",
    "import io\n",
    "import os\n",
    "import re\n",
    "import requests\n",
    "from PIL import Image\n",
    "import folium\n",
    "\n",
    "\n",
    "# Plotly imports\n",
    "import plotly.graph_objs as go\n",
    "import json\n",
    "\n",
    "# Bokeh imports\n",
    "from bokeh.io import curdoc, show\n",
    "from bokeh.plotting import figure, output_file\n",
    "from bokeh.models import HoverTool, NumeralTickFormatter\n",
    "from bokeh.themes import Theme"
   ]
  },
  {
   "attachments": {},
   "cell_type": "markdown",
   "metadata": {},
   "source": [
    "# Motivation"
   ]
  },
  {
   "cell_type": "code",
   "execution_count": null,
   "metadata": {},
   "outputs": [],
   "source": []
  },
  {
   "attachments": {},
   "cell_type": "markdown",
   "metadata": {},
   "source": [
    "# Basic statistics"
   ]
  },
  {
   "attachments": {},
   "cell_type": "markdown",
   "metadata": {},
   "source": [
    "## Dataset 1 - 311 Cases in San Francisco"
   ]
  },
  {
   "attachments": {},
   "cell_type": "markdown",
   "metadata": {},
   "source": [
    "## Dataset 2 - Police Department Incident Reports: Historical 2003 to May 2018"
   ]
  },
  {
   "attachments": {},
   "cell_type": "markdown",
   "metadata": {},
   "source": [
    "## Dataset 3 - Police Department Incident Reports: 2018 to Present"
   ]
  },
  {
   "cell_type": "code",
   "execution_count": null,
   "metadata": {},
   "outputs": [],
   "source": []
  },
  {
   "attachments": {},
   "cell_type": "markdown",
   "metadata": {},
   "source": [
    "# Data Analysis"
   ]
  },
  {
   "cell_type": "code",
   "execution_count": null,
   "metadata": {},
   "outputs": [],
   "source": []
  },
  {
   "attachments": {},
   "cell_type": "markdown",
   "metadata": {},
   "source": [
    "# Genre"
   ]
  },
  {
   "cell_type": "markdown",
   "metadata": {},
   "source": []
  },
  {
   "attachments": {},
   "cell_type": "markdown",
   "metadata": {},
   "source": [
    "# Visualizations"
   ]
  },
  {
   "attachments": {},
   "cell_type": "markdown",
   "metadata": {},
   "source": [
    "Loading and preprocessing of data might depend on the visualizations. Therefore, we will load and preprocess the data for each visualization separately."
   ]
  },
  {
   "cell_type": "code",
   "execution_count": 7,
   "metadata": {},
   "outputs": [
    {
     "name": "stderr",
     "output_type": "stream",
     "text": [
      "/var/folders/1j/15c8wxfx0rz57_sf9j19y3fh0000gp/T/ipykernel_36536/684083803.py:3: DtypeWarning:\n",
      "\n",
      "Columns (19) have mixed types. Specify dtype option on import or set low_memory=False.\n",
      "\n"
     ]
    }
   ],
   "source": [
    "cols_of_interest = ['Opened', 'Closed', 'Updated', 'Status', 'Status Notes', 'Responsible Agency', 'Category', 'Request Type', 'Request Details', 'Address', 'Supervisor District', 'Neighborhood', 'Latitude', 'Longitude', 'Source', 'Media URL']\n",
    "\n",
    "data = pd.read_csv('/Users/Gustav/Downloads/311_Cases0105.csv', usecols=cols_of_interest)\n",
    "\n",
    "# convert to datetime\n",
    "data['Opened'] = pd.to_datetime(data['Opened'])\n",
    "data['Closed'] = pd.to_datetime(data['Closed'])\n",
    "# create a column called yearmonth that contain the year and month of the opened date\n",
    "data['yearmonth'] = data['Opened'].apply(lambda x: str(x.year) + '-' + str(x.month) + '-01')\n",
    "data['Year'] = data['Opened'].dt.year\n",
    "# create a column for that contain the time taken for each request to be closed\n",
    "data['time_taken'] = data['Closed'] - data['Opened']\n",
    "# convert the time_taken column to hours\n",
    "data['time_taken'] = data['time_taken'].astype('timedelta64[h]')\n",
    "\n",
    "# take dataframe and get a count of every Request Details value summed by month and year\n",
    "df = data[(data['Category']==\"Street and Sidewalk Cleaning\")]\n",
    "# remove rows where latitude or longitude is null or zero\n",
    "df = df[(df['Latitude']!=0) | (df['Longitude']!=0)]\n",
    "\n",
    "### Fix Request details types that have different names but are the same\n",
    "## Garbage and Debris\n",
    "df['Request Details'] = df['Request Details'].replace(['Other Loose Garbage', 'Other Loose Garbage / Debris', 'Auto_accident_debris',\n",
    "                                                       'Garbage and Debris - N/A','Garbage and Debris - {{nature_of_request.label}}',\n",
    "                                                        'Garbage and Debris - {{request_type.label}}'],\n",
    "                                                        \"Loose Garbage and Debris\")\n",
    "## Overflowing city garbage can\n",
    "df['Request Details'] = df['Request Details'].replace(['City_garbage_can_overflowing', 'Overflowing city receptacle or dumpster',\n",
    "                                                        'Overflowing_City_Receptacle_or_Dumpster'], \"Overflowing City Garbage Can\")\n",
    "## Illegal dumping\n",
    "df['Request Details'] = df['Request Details'].replace(['Illegal Dumping', 'Illegal dumping', 'Illegal_Dumping'], \"Illegal Dumping\")\n",
    "## Furniture, mattresses and refrigerators\n",
    "df['Request Details'] = df['Request Details'].replace(['Furniture', 'Mattress', 'Refrigerator'], \"Furniture, Mattresses and Refrigerators\")\n",
    "## Sidewalk or street cleaning\n",
    "df['Request Details'] = df['Request Details'].replace(['Sidewalk_Cleaning', 'Sidewalk cleaning', 'Street_Cleaning', 'Street cleaning'], \"Sidewalk or Street Cleaning\")\n",
    "## Missed Route Mechanical Sweeping\n",
    "df['Request Details'] = df['Request Details'].replace(['Missed_Route_Mechanical_Sweeping', 'Missed route - mechanical sweeping'], \"Missed Route Mechanical Sweeping\")\n",
    "\n",
    "\n",
    "### Rename some values to be more pretty\n",
    "## Transit_shelter_platform\n",
    "df['Request Details'] = df['Request Details'].replace(['Transit_shelter_platform'], \"Transit Shelter Platform\")\n",
    "## Christmas tree\n",
    "df['Request Details'] = df['Request Details'].replace(['Christmas_tree'], \"Christmas Tree\")\n",
    "## Event_parade_mess\n",
    "df['Request Details'] = df['Request Details'].replace(['Event_parade_mess'], \"Event Parade Mess\")\n",
    "## Missed_TrashRecycleCompost_Collection\n",
    "df['Request Details'] = df['Request Details'].replace(['Missed_TrashRecycleCompost_Collection'], \"Missed Trash Recycle Compost Collection\")\n",
    "## Medical_waste\n",
    "df['Request Details'] = df['Request Details'].replace(['Medical_waste'], \"Medical Waste\")\n",
    "## GarbageTransit\n",
    "df['Request Details'] = df['Request Details'].replace(['GarbageTransit'], \"Garbage Transit\")\n",
    "## OtherTransit\n",
    "df['Request Details'] = df['Request Details'].replace(['OtherTransit'], \"Other Transit\")\n",
    "## PostAbatementInspection\n",
    "df['Request Details'] = df['Request Details'].replace(['PostAbatementInspection'], \"Post Abatement Inspection\")"
   ]
  },
  {
   "attachments": {},
   "cell_type": "markdown",
   "metadata": {},
   "source": [
    "For most of the visualizations, we want to focus on only a subset of the Request Types. Therefore, we define a preferred columns variable below that we will use throughout the notebook."
   ]
  },
  {
   "cell_type": "code",
   "execution_count": 10,
   "metadata": {},
   "outputs": [],
   "source": [
    "pref_cols = [\"Loose Garbage and Debris\", \"Furniture, Mattresses and Refrigerators\", \"Boxed or Bagged Items\", \"Human or Animal Waste\", \"Electronics\", \n",
    "             \"Glass\", \"Needles\", \"Liquids - Oil/Paint/Other\", \"Transit Shelter Platform\", \"Christmas Tree\"]"
   ]
  },
  {
   "attachments": {},
   "cell_type": "markdown",
   "metadata": {},
   "source": [
    "## Total 311 requests over time (Bar chart)"
   ]
  },
  {
   "cell_type": "code",
   "execution_count": 13,
   "metadata": {},
   "outputs": [
    {
     "data": {
      "application/vnd.plotly.v1+json": {
       "config": {
        "plotlyServerURL": "https://plot.ly"
       },
       "data": [
        {
         "hoverlabel": {
          "bgcolor": "gold"
         },
         "hovertemplate": [
          "<b>21.7k</b> <extra></extra>",
          "<b>46.4k</b> <extra></extra>",
          "<b>47.9k</b> <extra></extra>",
          "<b>55.6k</b> <extra></extra>",
          "<b>55.4k</b> <extra></extra>",
          "<b>69.8k</b> <extra></extra>",
          "<b>90.9k</b> <extra></extra>",
          "<b>111.0k</b> <extra></extra>",
          "<b>162.2k</b> <extra></extra>",
          "<b>191.9k</b> <extra></extra>",
          "<b>223.5k</b> <extra></extra>",
          "<b>247.5k</b> <extra></extra>",
          "<b>278.3k</b> <extra></extra>",
          "<b>278.6k</b> <extra></extra>",
          "<b>293.4k</b> <extra></extra>"
         ],
         "marker": {
          "color": "#487C4F",
          "line": {
           "color": "black",
           "width": 1
          }
         },
         "type": "bar",
         "x": [
          2008,
          2009,
          2010,
          2011,
          2012,
          2013,
          2014,
          2015,
          2016,
          2017,
          2018,
          2019,
          2020,
          2021,
          2022
         ],
         "y": [
          21656,
          46403,
          47889,
          55570,
          55418,
          69788,
          90866,
          111042,
          162240,
          191941,
          223468,
          247515,
          278315,
          278646,
          293425
         ]
        }
       ],
       "layout": {
        "autosize": true,
        "font": {
         "family": "Garamond",
         "size": 18
        },
        "height": 600,
        "margin": {
         "b": 0,
         "l": 10,
         "r": 10,
         "t": 0
        },
        "paper_bgcolor": "#E8ECEB",
        "plot_bgcolor": "#E8ECEB",
        "template": {
         "data": {
          "bar": [
           {
            "error_x": {
             "color": "#2a3f5f"
            },
            "error_y": {
             "color": "#2a3f5f"
            },
            "marker": {
             "line": {
              "color": "#E5ECF6",
              "width": 0.5
             },
             "pattern": {
              "fillmode": "overlay",
              "size": 10,
              "solidity": 0.2
             }
            },
            "type": "bar"
           }
          ],
          "barpolar": [
           {
            "marker": {
             "line": {
              "color": "#E5ECF6",
              "width": 0.5
             },
             "pattern": {
              "fillmode": "overlay",
              "size": 10,
              "solidity": 0.2
             }
            },
            "type": "barpolar"
           }
          ],
          "carpet": [
           {
            "aaxis": {
             "endlinecolor": "#2a3f5f",
             "gridcolor": "white",
             "linecolor": "white",
             "minorgridcolor": "white",
             "startlinecolor": "#2a3f5f"
            },
            "baxis": {
             "endlinecolor": "#2a3f5f",
             "gridcolor": "white",
             "linecolor": "white",
             "minorgridcolor": "white",
             "startlinecolor": "#2a3f5f"
            },
            "type": "carpet"
           }
          ],
          "choropleth": [
           {
            "colorbar": {
             "outlinewidth": 0,
             "ticks": ""
            },
            "type": "choropleth"
           }
          ],
          "contour": [
           {
            "colorbar": {
             "outlinewidth": 0,
             "ticks": ""
            },
            "colorscale": [
             [
              0,
              "#0d0887"
             ],
             [
              0.1111111111111111,
              "#46039f"
             ],
             [
              0.2222222222222222,
              "#7201a8"
             ],
             [
              0.3333333333333333,
              "#9c179e"
             ],
             [
              0.4444444444444444,
              "#bd3786"
             ],
             [
              0.5555555555555556,
              "#d8576b"
             ],
             [
              0.6666666666666666,
              "#ed7953"
             ],
             [
              0.7777777777777778,
              "#fb9f3a"
             ],
             [
              0.8888888888888888,
              "#fdca26"
             ],
             [
              1,
              "#f0f921"
             ]
            ],
            "type": "contour"
           }
          ],
          "contourcarpet": [
           {
            "colorbar": {
             "outlinewidth": 0,
             "ticks": ""
            },
            "type": "contourcarpet"
           }
          ],
          "heatmap": [
           {
            "colorbar": {
             "outlinewidth": 0,
             "ticks": ""
            },
            "colorscale": [
             [
              0,
              "#0d0887"
             ],
             [
              0.1111111111111111,
              "#46039f"
             ],
             [
              0.2222222222222222,
              "#7201a8"
             ],
             [
              0.3333333333333333,
              "#9c179e"
             ],
             [
              0.4444444444444444,
              "#bd3786"
             ],
             [
              0.5555555555555556,
              "#d8576b"
             ],
             [
              0.6666666666666666,
              "#ed7953"
             ],
             [
              0.7777777777777778,
              "#fb9f3a"
             ],
             [
              0.8888888888888888,
              "#fdca26"
             ],
             [
              1,
              "#f0f921"
             ]
            ],
            "type": "heatmap"
           }
          ],
          "heatmapgl": [
           {
            "colorbar": {
             "outlinewidth": 0,
             "ticks": ""
            },
            "colorscale": [
             [
              0,
              "#0d0887"
             ],
             [
              0.1111111111111111,
              "#46039f"
             ],
             [
              0.2222222222222222,
              "#7201a8"
             ],
             [
              0.3333333333333333,
              "#9c179e"
             ],
             [
              0.4444444444444444,
              "#bd3786"
             ],
             [
              0.5555555555555556,
              "#d8576b"
             ],
             [
              0.6666666666666666,
              "#ed7953"
             ],
             [
              0.7777777777777778,
              "#fb9f3a"
             ],
             [
              0.8888888888888888,
              "#fdca26"
             ],
             [
              1,
              "#f0f921"
             ]
            ],
            "type": "heatmapgl"
           }
          ],
          "histogram": [
           {
            "marker": {
             "pattern": {
              "fillmode": "overlay",
              "size": 10,
              "solidity": 0.2
             }
            },
            "type": "histogram"
           }
          ],
          "histogram2d": [
           {
            "colorbar": {
             "outlinewidth": 0,
             "ticks": ""
            },
            "colorscale": [
             [
              0,
              "#0d0887"
             ],
             [
              0.1111111111111111,
              "#46039f"
             ],
             [
              0.2222222222222222,
              "#7201a8"
             ],
             [
              0.3333333333333333,
              "#9c179e"
             ],
             [
              0.4444444444444444,
              "#bd3786"
             ],
             [
              0.5555555555555556,
              "#d8576b"
             ],
             [
              0.6666666666666666,
              "#ed7953"
             ],
             [
              0.7777777777777778,
              "#fb9f3a"
             ],
             [
              0.8888888888888888,
              "#fdca26"
             ],
             [
              1,
              "#f0f921"
             ]
            ],
            "type": "histogram2d"
           }
          ],
          "histogram2dcontour": [
           {
            "colorbar": {
             "outlinewidth": 0,
             "ticks": ""
            },
            "colorscale": [
             [
              0,
              "#0d0887"
             ],
             [
              0.1111111111111111,
              "#46039f"
             ],
             [
              0.2222222222222222,
              "#7201a8"
             ],
             [
              0.3333333333333333,
              "#9c179e"
             ],
             [
              0.4444444444444444,
              "#bd3786"
             ],
             [
              0.5555555555555556,
              "#d8576b"
             ],
             [
              0.6666666666666666,
              "#ed7953"
             ],
             [
              0.7777777777777778,
              "#fb9f3a"
             ],
             [
              0.8888888888888888,
              "#fdca26"
             ],
             [
              1,
              "#f0f921"
             ]
            ],
            "type": "histogram2dcontour"
           }
          ],
          "mesh3d": [
           {
            "colorbar": {
             "outlinewidth": 0,
             "ticks": ""
            },
            "type": "mesh3d"
           }
          ],
          "parcoords": [
           {
            "line": {
             "colorbar": {
              "outlinewidth": 0,
              "ticks": ""
             }
            },
            "type": "parcoords"
           }
          ],
          "pie": [
           {
            "automargin": true,
            "type": "pie"
           }
          ],
          "scatter": [
           {
            "fillpattern": {
             "fillmode": "overlay",
             "size": 10,
             "solidity": 0.2
            },
            "type": "scatter"
           }
          ],
          "scatter3d": [
           {
            "line": {
             "colorbar": {
              "outlinewidth": 0,
              "ticks": ""
             }
            },
            "marker": {
             "colorbar": {
              "outlinewidth": 0,
              "ticks": ""
             }
            },
            "type": "scatter3d"
           }
          ],
          "scattercarpet": [
           {
            "marker": {
             "colorbar": {
              "outlinewidth": 0,
              "ticks": ""
             }
            },
            "type": "scattercarpet"
           }
          ],
          "scattergeo": [
           {
            "marker": {
             "colorbar": {
              "outlinewidth": 0,
              "ticks": ""
             }
            },
            "type": "scattergeo"
           }
          ],
          "scattergl": [
           {
            "marker": {
             "colorbar": {
              "outlinewidth": 0,
              "ticks": ""
             }
            },
            "type": "scattergl"
           }
          ],
          "scattermapbox": [
           {
            "marker": {
             "colorbar": {
              "outlinewidth": 0,
              "ticks": ""
             }
            },
            "type": "scattermapbox"
           }
          ],
          "scatterpolar": [
           {
            "marker": {
             "colorbar": {
              "outlinewidth": 0,
              "ticks": ""
             }
            },
            "type": "scatterpolar"
           }
          ],
          "scatterpolargl": [
           {
            "marker": {
             "colorbar": {
              "outlinewidth": 0,
              "ticks": ""
             }
            },
            "type": "scatterpolargl"
           }
          ],
          "scatterternary": [
           {
            "marker": {
             "colorbar": {
              "outlinewidth": 0,
              "ticks": ""
             }
            },
            "type": "scatterternary"
           }
          ],
          "surface": [
           {
            "colorbar": {
             "outlinewidth": 0,
             "ticks": ""
            },
            "colorscale": [
             [
              0,
              "#0d0887"
             ],
             [
              0.1111111111111111,
              "#46039f"
             ],
             [
              0.2222222222222222,
              "#7201a8"
             ],
             [
              0.3333333333333333,
              "#9c179e"
             ],
             [
              0.4444444444444444,
              "#bd3786"
             ],
             [
              0.5555555555555556,
              "#d8576b"
             ],
             [
              0.6666666666666666,
              "#ed7953"
             ],
             [
              0.7777777777777778,
              "#fb9f3a"
             ],
             [
              0.8888888888888888,
              "#fdca26"
             ],
             [
              1,
              "#f0f921"
             ]
            ],
            "type": "surface"
           }
          ],
          "table": [
           {
            "cells": {
             "fill": {
              "color": "#EBF0F8"
             },
             "line": {
              "color": "white"
             }
            },
            "header": {
             "fill": {
              "color": "#C8D4E3"
             },
             "line": {
              "color": "white"
             }
            },
            "type": "table"
           }
          ]
         },
         "layout": {
          "annotationdefaults": {
           "arrowcolor": "#2a3f5f",
           "arrowhead": 0,
           "arrowwidth": 1
          },
          "autotypenumbers": "strict",
          "coloraxis": {
           "colorbar": {
            "outlinewidth": 0,
            "ticks": ""
           }
          },
          "colorscale": {
           "diverging": [
            [
             0,
             "#8e0152"
            ],
            [
             0.1,
             "#c51b7d"
            ],
            [
             0.2,
             "#de77ae"
            ],
            [
             0.3,
             "#f1b6da"
            ],
            [
             0.4,
             "#fde0ef"
            ],
            [
             0.5,
             "#f7f7f7"
            ],
            [
             0.6,
             "#e6f5d0"
            ],
            [
             0.7,
             "#b8e186"
            ],
            [
             0.8,
             "#7fbc41"
            ],
            [
             0.9,
             "#4d9221"
            ],
            [
             1,
             "#276419"
            ]
           ],
           "sequential": [
            [
             0,
             "#0d0887"
            ],
            [
             0.1111111111111111,
             "#46039f"
            ],
            [
             0.2222222222222222,
             "#7201a8"
            ],
            [
             0.3333333333333333,
             "#9c179e"
            ],
            [
             0.4444444444444444,
             "#bd3786"
            ],
            [
             0.5555555555555556,
             "#d8576b"
            ],
            [
             0.6666666666666666,
             "#ed7953"
            ],
            [
             0.7777777777777778,
             "#fb9f3a"
            ],
            [
             0.8888888888888888,
             "#fdca26"
            ],
            [
             1,
             "#f0f921"
            ]
           ],
           "sequentialminus": [
            [
             0,
             "#0d0887"
            ],
            [
             0.1111111111111111,
             "#46039f"
            ],
            [
             0.2222222222222222,
             "#7201a8"
            ],
            [
             0.3333333333333333,
             "#9c179e"
            ],
            [
             0.4444444444444444,
             "#bd3786"
            ],
            [
             0.5555555555555556,
             "#d8576b"
            ],
            [
             0.6666666666666666,
             "#ed7953"
            ],
            [
             0.7777777777777778,
             "#fb9f3a"
            ],
            [
             0.8888888888888888,
             "#fdca26"
            ],
            [
             1,
             "#f0f921"
            ]
           ]
          },
          "colorway": [
           "#636efa",
           "#EF553B",
           "#00cc96",
           "#ab63fa",
           "#FFA15A",
           "#19d3f3",
           "#FF6692",
           "#B6E880",
           "#FF97FF",
           "#FECB52"
          ],
          "font": {
           "color": "#2a3f5f"
          },
          "geo": {
           "bgcolor": "white",
           "lakecolor": "white",
           "landcolor": "#E5ECF6",
           "showlakes": true,
           "showland": true,
           "subunitcolor": "white"
          },
          "hoverlabel": {
           "align": "left"
          },
          "hovermode": "closest",
          "mapbox": {
           "style": "light"
          },
          "paper_bgcolor": "white",
          "plot_bgcolor": "#E5ECF6",
          "polar": {
           "angularaxis": {
            "gridcolor": "white",
            "linecolor": "white",
            "ticks": ""
           },
           "bgcolor": "#E5ECF6",
           "radialaxis": {
            "gridcolor": "white",
            "linecolor": "white",
            "ticks": ""
           }
          },
          "scene": {
           "xaxis": {
            "backgroundcolor": "#E5ECF6",
            "gridcolor": "white",
            "gridwidth": 2,
            "linecolor": "white",
            "showbackground": true,
            "ticks": "",
            "zerolinecolor": "white"
           },
           "yaxis": {
            "backgroundcolor": "#E5ECF6",
            "gridcolor": "white",
            "gridwidth": 2,
            "linecolor": "white",
            "showbackground": true,
            "ticks": "",
            "zerolinecolor": "white"
           },
           "zaxis": {
            "backgroundcolor": "#E5ECF6",
            "gridcolor": "white",
            "gridwidth": 2,
            "linecolor": "white",
            "showbackground": true,
            "ticks": "",
            "zerolinecolor": "white"
           }
          },
          "shapedefaults": {
           "line": {
            "color": "#2a3f5f"
           }
          },
          "ternary": {
           "aaxis": {
            "gridcolor": "white",
            "linecolor": "white",
            "ticks": ""
           },
           "baxis": {
            "gridcolor": "white",
            "linecolor": "white",
            "ticks": ""
           },
           "bgcolor": "#E5ECF6",
           "caxis": {
            "gridcolor": "white",
            "linecolor": "white",
            "ticks": ""
           }
          },
          "title": {
           "x": 0.05
          },
          "xaxis": {
           "automargin": true,
           "gridcolor": "white",
           "linecolor": "white",
           "ticks": "",
           "title": {
            "standoff": 15
           },
           "zerolinecolor": "white",
           "zerolinewidth": 2
          },
          "yaxis": {
           "automargin": true,
           "gridcolor": "white",
           "linecolor": "white",
           "ticks": "",
           "title": {
            "standoff": 15
           },
           "zerolinecolor": "white",
           "zerolinewidth": 2
          }
         }
        },
        "width": 1000,
        "xaxis": {
         "dtick": 1,
         "title": {
          "text": "Year"
         }
        },
        "yaxis": {
         "title": {
          "text": "Number of Requests"
         }
        }
       }
      }
     },
     "metadata": {},
     "output_type": "display_data"
    }
   ],
   "source": [
    "yearly_counts = df.groupby('Year').size()\n",
    "yearly_counts = yearly_counts.drop(2023)\n",
    "\n",
    "hover_text = [f\"<b>{val/1000:.1f}k</b> <extra></extra>\" if val >= 1000 else str(val) for val in yearly_counts.values]\n",
    "\n",
    "fig = go.Figure(go.Bar(\n",
    "    x=yearly_counts.index,\n",
    "    y=yearly_counts.values,\n",
    "    hovertemplate=hover_text,\n",
    "    marker_color='#487C4F',\n",
    "    marker_line_color='black',\n",
    "    marker_line_width=1,\n",
    "    hoverlabel=dict(bgcolor=\"gold\"),\n",
    "))\n",
    "\n",
    "# Set x-axis ticks to show all years\n",
    "fig.update_layout(xaxis=dict(dtick=1))\n",
    "\n",
    "fig.update_layout(height = 550,\n",
    "                    width = 950,\n",
    "                    autosize=True,\n",
    "                    paper_bgcolor= \"#E8ECEB\",\n",
    "                    margin={\"r\":10,\"t\":0,\"l\":10,\"b\":0},\n",
    "                    font_family = \"Garamond\",\n",
    "                    font_size = 18,\n",
    "                    xaxis_title=\"Year\",\n",
    "                    yaxis_title=\"Number of Requests\",\n",
    "                    )\n",
    "fig.update_layout(\n",
    "    plot_bgcolor='#E8ECEB'\n",
    ")\n",
    "\n",
    "fig.show()"
   ]
  },
  {
   "attachments": {},
   "cell_type": "markdown",
   "metadata": {},
   "source": [
    "## Examples of requested cleaning tickets (Slideshow)"
   ]
  },
  {
   "attachments": {},
   "cell_type": "markdown",
   "metadata": {},
   "source": [
    "To create the slideshow that showcases some of the situations where a ticket has been requested with an attached media URL, we utilize this to download the images and display them in the slideshow. However, the idea for a slideshow did not come until after we started looking into the data, and more specifically the time taken for requests to go from opened to closed. Effectively showing the effectiveness of the city of San Francisco in handling the requests and prioritising the massive amount of requests they receive. Therefore, for this visualization, we start by presenting some of the background for the slideshow through a time taken distribution and boxplot."
   ]
  },
  {
   "cell_type": "code",
   "execution_count": 8,
   "metadata": {},
   "outputs": [
    {
     "data": {
      "text/html": [
       "<div>\n",
       "<style scoped>\n",
       "    .dataframe tbody tr th:only-of-type {\n",
       "        vertical-align: middle;\n",
       "    }\n",
       "\n",
       "    .dataframe tbody tr th {\n",
       "        vertical-align: top;\n",
       "    }\n",
       "\n",
       "    .dataframe thead th {\n",
       "        text-align: right;\n",
       "    }\n",
       "</style>\n",
       "<table border=\"1\" class=\"dataframe\">\n",
       "  <thead>\n",
       "    <tr style=\"text-align: right;\">\n",
       "      <th></th>\n",
       "      <th>median</th>\n",
       "      <th>min</th>\n",
       "      <th>max</th>\n",
       "    </tr>\n",
       "    <tr>\n",
       "      <th>Request Details</th>\n",
       "      <th></th>\n",
       "      <th></th>\n",
       "      <th></th>\n",
       "    </tr>\n",
       "  </thead>\n",
       "  <tbody>\n",
       "    <tr>\n",
       "      <th>Boxed or Bagged Items</th>\n",
       "      <td>4.0</td>\n",
       "      <td>-586.0</td>\n",
       "      <td>40222.0</td>\n",
       "    </tr>\n",
       "    <tr>\n",
       "      <th>Car Batteries</th>\n",
       "      <td>39.5</td>\n",
       "      <td>-11.0</td>\n",
       "      <td>17564.0</td>\n",
       "    </tr>\n",
       "    <tr>\n",
       "      <th>Christmas Tree</th>\n",
       "      <td>32.0</td>\n",
       "      <td>0.0</td>\n",
       "      <td>9294.0</td>\n",
       "    </tr>\n",
       "    <tr>\n",
       "      <th>Electronics</th>\n",
       "      <td>5.0</td>\n",
       "      <td>-300.0</td>\n",
       "      <td>81217.0</td>\n",
       "    </tr>\n",
       "    <tr>\n",
       "      <th>Event Parade Mess</th>\n",
       "      <td>26.0</td>\n",
       "      <td>-11.0</td>\n",
       "      <td>38569.0</td>\n",
       "    </tr>\n",
       "    <tr>\n",
       "      <th>Furniture, Mattresses and Refrigerators</th>\n",
       "      <td>5.0</td>\n",
       "      <td>-301.0</td>\n",
       "      <td>83874.0</td>\n",
       "    </tr>\n",
       "    <tr>\n",
       "      <th>Garbage Transit</th>\n",
       "      <td>3.5</td>\n",
       "      <td>0.0</td>\n",
       "      <td>146.0</td>\n",
       "    </tr>\n",
       "    <tr>\n",
       "      <th>Glass</th>\n",
       "      <td>20.0</td>\n",
       "      <td>-8013.0</td>\n",
       "      <td>68645.0</td>\n",
       "    </tr>\n",
       "    <tr>\n",
       "      <th>Hazardous Waste Containers</th>\n",
       "      <td>22.0</td>\n",
       "      <td>-7.0</td>\n",
       "      <td>36497.0</td>\n",
       "    </tr>\n",
       "    <tr>\n",
       "      <th>Human or Animal Waste</th>\n",
       "      <td>23.0</td>\n",
       "      <td>-167.0</td>\n",
       "      <td>79151.0</td>\n",
       "    </tr>\n",
       "    <tr>\n",
       "      <th>Illegal Dumping</th>\n",
       "      <td>40.0</td>\n",
       "      <td>0.0</td>\n",
       "      <td>73072.0</td>\n",
       "    </tr>\n",
       "    <tr>\n",
       "      <th>Liquids - Oil/Paint/Other</th>\n",
       "      <td>22.0</td>\n",
       "      <td>-76.0</td>\n",
       "      <td>78652.0</td>\n",
       "    </tr>\n",
       "    <tr>\n",
       "      <th>Loose Garbage and Debris</th>\n",
       "      <td>21.0</td>\n",
       "      <td>-6538.0</td>\n",
       "      <td>102675.0</td>\n",
       "    </tr>\n",
       "    <tr>\n",
       "      <th>Medical Waste</th>\n",
       "      <td>23.0</td>\n",
       "      <td>0.0</td>\n",
       "      <td>12077.0</td>\n",
       "    </tr>\n",
       "    <tr>\n",
       "      <th>Missed Route Mechanical Sweeping</th>\n",
       "      <td>26.0</td>\n",
       "      <td>-192.0</td>\n",
       "      <td>102455.0</td>\n",
       "    </tr>\n",
       "    <tr>\n",
       "      <th>Missed Trash Recycle Compost Collection</th>\n",
       "      <td>18.0</td>\n",
       "      <td>0.0</td>\n",
       "      <td>770.0</td>\n",
       "    </tr>\n",
       "    <tr>\n",
       "      <th>Needles</th>\n",
       "      <td>9.0</td>\n",
       "      <td>-8760.0</td>\n",
       "      <td>76035.0</td>\n",
       "    </tr>\n",
       "    <tr>\n",
       "      <th>Other Transit</th>\n",
       "      <td>9.0</td>\n",
       "      <td>4.0</td>\n",
       "      <td>141.0</td>\n",
       "    </tr>\n",
       "    <tr>\n",
       "      <th>Overflowing City Garbage Can</th>\n",
       "      <td>12.0</td>\n",
       "      <td>-300.0</td>\n",
       "      <td>73251.0</td>\n",
       "    </tr>\n",
       "    <tr>\n",
       "      <th>Paper Spill</th>\n",
       "      <td>14.0</td>\n",
       "      <td>-201.0</td>\n",
       "      <td>70127.0</td>\n",
       "    </tr>\n",
       "    <tr>\n",
       "      <th>Post Abatement Inspection</th>\n",
       "      <td>7.0</td>\n",
       "      <td>7.0</td>\n",
       "      <td>7.0</td>\n",
       "    </tr>\n",
       "    <tr>\n",
       "      <th>Sidewalk or Street Cleaning</th>\n",
       "      <td>36.0</td>\n",
       "      <td>0.0</td>\n",
       "      <td>6496.0</td>\n",
       "    </tr>\n",
       "    <tr>\n",
       "      <th>Tires</th>\n",
       "      <td>16.0</td>\n",
       "      <td>-7.0</td>\n",
       "      <td>38615.0</td>\n",
       "    </tr>\n",
       "    <tr>\n",
       "      <th>Transit Shelter Platform</th>\n",
       "      <td>275.0</td>\n",
       "      <td>-14.0</td>\n",
       "      <td>33620.0</td>\n",
       "    </tr>\n",
       "  </tbody>\n",
       "</table>\n",
       "</div>"
      ],
      "text/plain": [
       "                                         median     min       max\n",
       "Request Details                                                  \n",
       "Boxed or Bagged Items                       4.0  -586.0   40222.0\n",
       "Car Batteries                              39.5   -11.0   17564.0\n",
       "Christmas Tree                             32.0     0.0    9294.0\n",
       "Electronics                                 5.0  -300.0   81217.0\n",
       "Event Parade Mess                          26.0   -11.0   38569.0\n",
       "Furniture, Mattresses and Refrigerators     5.0  -301.0   83874.0\n",
       "Garbage Transit                             3.5     0.0     146.0\n",
       "Glass                                      20.0 -8013.0   68645.0\n",
       "Hazardous Waste Containers                 22.0    -7.0   36497.0\n",
       "Human or Animal Waste                      23.0  -167.0   79151.0\n",
       "Illegal Dumping                            40.0     0.0   73072.0\n",
       "Liquids - Oil/Paint/Other                  22.0   -76.0   78652.0\n",
       "Loose Garbage and Debris                   21.0 -6538.0  102675.0\n",
       "Medical Waste                              23.0     0.0   12077.0\n",
       "Missed Route Mechanical Sweeping           26.0  -192.0  102455.0\n",
       "Missed Trash Recycle Compost Collection    18.0     0.0     770.0\n",
       "Needles                                     9.0 -8760.0   76035.0\n",
       "Other Transit                               9.0     4.0     141.0\n",
       "Overflowing City Garbage Can               12.0  -300.0   73251.0\n",
       "Paper Spill                                14.0  -201.0   70127.0\n",
       "Post Abatement Inspection                   7.0     7.0       7.0\n",
       "Sidewalk or Street Cleaning                36.0     0.0    6496.0\n",
       "Tires                                      16.0    -7.0   38615.0\n",
       "Transit Shelter Platform                  275.0   -14.0   33620.0"
      ]
     },
     "execution_count": 8,
     "metadata": {},
     "output_type": "execute_result"
    }
   ],
   "source": [
    "# compute the average, min and max of the time_taken column for each Request Details value\n",
    "df_time_taken = df.groupby('Request Details')['time_taken'].agg(['median', 'min', 'max'])\n",
    "df_time_taken"
   ]
  },
  {
   "attachments": {},
   "cell_type": "markdown",
   "metadata": {},
   "source": [
    "From the above table, we are able to see that the time taken of every request category contain a significant amount of outliers. Firstly, this insight sparked an interest in exploring why we see all these outliers - are they extreme cleaning requests or is the city handling them poorly? Secondly, because of the outliers, we knew that visualizing the distributions in a boxplot would be difficult and noisy to get useful information from. However, we gave it a go."
   ]
  },
  {
   "cell_type": "code",
   "execution_count": 11,
   "metadata": {},
   "outputs": [
    {
     "data": {
      "image/png": "[encoded data removed]",
      "text/plain": [
       "<Figure size 1000x700 with 1 Axes>"
      ]
     },
     "metadata": {},
     "output_type": "display_data"
    }
   ],
   "source": [
    "boxplot_df = df.copy()\n",
    "boxplot_plotting_data = []\n",
    "for request_type in pref_cols:\n",
    "    boxplot_plotting_data.append(boxplot_df[boxplot_df[\"Request Details\"] == request_type]['time_taken'].value_counts())\n",
    "\n",
    "fig = plt.figure(figsize=(10, 7))\n",
    " \n",
    "# Creating axes instance\n",
    "ax = fig.add_axes([0, 0, 1, 1])\n",
    " \n",
    "# Creating plot\n",
    "bp = ax.boxplot(boxplot_plotting_data)\n",
    " \n",
    "ax.set_xticklabels(pref_cols, rotation=30, ha='right')\n",
    "# show plot\n",
    "plt.show()"
   ]
  },
  {
   "attachments": {},
   "cell_type": "markdown",
   "metadata": {},
   "source": [
    "So, at this point we conclude that the amount of outliers simply makes the boxplot too noisy to be useful. Therefore, we move on to show the requests in another (more simple) way. We randomly select 5 requests that contain a media URL and display them in a slideshow. Since we aim at a slideshow that contain images of the same sizes, we however filter the images to get a specific size. In this way, we hope to give the reader a sense of the different types of requests that are being made, and how significant some of the issues are. We also hope that this type of visualizing the data will be more engaging for the reader."
   ]
  },
  {
   "cell_type": "code",
   "execution_count": null,
   "metadata": {},
   "outputs": [],
   "source": [
    "time_taken_images = df[(df['Media URL'].notnull()) & (df['Neighborhood'].notnull()) & (df['time_taken'].notnull())]\n",
    "\n",
    "for idx, row in time_taken_images.iterrows():\n",
    "    image_url = row['Media URL']\n",
    "    hours = row['time_taken']\n",
    "    # request details without spaces and special characters\n",
    "    request_details = row['Request Details'].replace(\" \", \"_\").replace(\"/\", \"_\").replace(\"'\", \"\")\n",
    "    # neighborhood without spaces and special characters\n",
    "    neighborhood = row['Neighborhood'].replace(\" \", \"_\").replace(\"/\", \"_\").replace(\"'\", \"\")\n",
    "    # longitute and latitude\n",
    "    lat = row['Latitude']\n",
    "    lon = row['Longitude']\n",
    "    category = row['Request Details']\n",
    "    try:\n",
    "        img_data = requests.get(image_url, timeout=10).content\n",
    "        \n",
    "        img = Image.open(io.BytesIO(img_data))\n",
    "        # if image is not 1164x768 or 1536x834, skip\n",
    "        if img.size == (1164, 768):\n",
    "            image_name = f'/Users/Gustav/Downloads/SocialDataOutliers/1164x768/{request_details}_{hours}_{neighborhood}_lat{lat}_lng{lon}.jpg'\n",
    "            # if image_name already exists, skip\n",
    "            if os.path.isfile(image_name):\n",
    "                continue\n",
    "            with open(image_name, 'wb') as handler:\n",
    "                handler.write(img_data)\n",
    "        elif img.size == (1536, 834):\n",
    "            image_name = f'/Users/Gustav/Downloads/SocialDataOutliers/1536x834/{request_details}_{hours}_{neighborhood}_lat{lat}_lng{lon}.jpg'\n",
    "            # if image_name already exists, skip\n",
    "            if os.path.isfile(image_name):\n",
    "                continue\n",
    "            with open(image_name, 'wb') as handler:\n",
    "                handler.write(img_data)\n",
    "        else:\n",
    "            continue\n",
    "        \n",
    "    except requests.exceptions.Timeout as err:\n",
    "        print(f'Could not download image for {request_details} with url {image_url}')\n",
    "        continue\n",
    "    \n",
    "    "
   ]
  },
  {
   "attachments": {},
   "cell_type": "markdown",
   "metadata": {},
   "source": [
    "To provide the images with some more context, we create a map of San Francisco with a marker for the location of the request. This is done by using the folium library. We then overlay the map on the original request media URL and show both in one. Hence, the reader will be able to easily see the exact location of the request, and connect that information with the overall story of our website."
   ]
  },
  {
   "cell_type": "code",
   "execution_count": null,
   "metadata": {},
   "outputs": [],
   "source": [
    "path = \"/Users/Gustav/Downloads/slideshow\"\n",
    "for image in os.listdir(path):\n",
    "    filename = os.path.join(path, image)\n",
    "    # check that the file is a jpg\n",
    "    if not filename.endswith(\".png\"):\n",
    "        continue\n",
    "    # get numbers from filename after \"lat\" and \"lng\"\n",
    "    lat = float(re.findall(r'_lat(.*?)_lng', filename)[0])\n",
    "    lng = float(re.findall(r'_lng(.*?).png', filename)[0])\n",
    "\n",
    "    SF_map = folium.Map([37.7749, -122.4194], tiles = \"Stamen Toner\", zoom_start=12.4)\n",
    "    folium.Marker([lat, lng]).add_to(SF_map)\n",
    "    SF_map.save(f\"{filename}_map.html\")"
   ]
  },
  {
   "cell_type": "code",
   "execution_count": null,
   "metadata": {},
   "outputs": [],
   "source": [
    "for image in os.listdir(path):\n",
    "    filename = os.path.join(path, image)\n",
    "    # check that the file is a jpg\n",
    "    if not filename.endswith(\".png\"):\n",
    "        continue\n",
    "    # check whether the file contain \"map\" in it\n",
    "    if \"map\" in filename:\n",
    "        continue\n",
    "    case_img = Image.open(filename)\n",
    "    map_img = Image.open(f\"{filename}_map.png\")\n",
    "    map_img = map_img.resize((250, 250))\n",
    "    case_img.paste(map_img, (0,0), mask=map_img)\n",
    "    case_img.save(f\"{filename}_combine.jpg\")"
   ]
  },
  {
   "attachments": {},
   "cell_type": "markdown",
   "metadata": {},
   "source": [
    "## Category-wise change in 311 requests over time (Time series)"
   ]
  },
  {
   "cell_type": "code",
   "execution_count": null,
   "metadata": {},
   "outputs": [],
   "source": []
  },
  {
   "attachments": {},
   "cell_type": "markdown",
   "metadata": {},
   "source": [
    "## District-wise yearly 311 requests (Interactive map plot)"
   ]
  },
  {
   "cell_type": "code",
   "execution_count": null,
   "metadata": {},
   "outputs": [],
   "source": [
    "# define traces and buttons at once\n",
    "data_slider = []\n",
    "years = [yeari for yeari in range(2008, 2024)]\n",
    "for year in years:\n",
    "    df_segmented = geo_data[(geo_data['Year']== year)]\n",
    "    map = go.Choroplethmapbox(geojson=json.loads(df_segmented.to_json()),\n",
    "                                    z = list(df_segmented[\"Total\"]),\n",
    "                                    locations = df_segmented.index,\n",
    "                                    colorscale=GEOMAP_CMAP,\n",
    "                                    colorbar=dict(\n",
    "                                        title=f'Number of cases',\n",
    "                                        titleside='top',\n",
    "                                        len=0.8,\n",
    "                                        orientation = \"h\",\n",
    "                                        y = -0.23),\n",
    "                                    visible=False,\n",
    "                                    hovertemplate= f\"\"\"Number of cases: \"\"\" +  \"\"\"%{z}<br>Neighborhood: %{text}<extra></extra>\"\"\",\n",
    "                                    text = df_segmented.index)\n",
    "    data_slider.append(map)\n",
    "\n",
    "# start with year 2023\n",
    "data_slider[15].visible = True\n",
    "\n",
    "steps = []\n",
    "for i in range(len(data_slider)):\n",
    "    step = dict(\n",
    "        method=\"update\",\n",
    "        args=[{\"visible\": [False] * len(data_slider)}],\n",
    "        label='{}'.format(i + 2008)  # layout attribute\n",
    "    )\n",
    "    step[\"args\"][0][\"visible\"][i] = True  # Toggle i'th trace to \"visible\"\n",
    "    steps.append(step)\n",
    "\n",
    "sliders = [dict(\n",
    "    active=15,\n",
    "    pad={\"t\": 1},\n",
    "    steps=steps,\n",
    "    len=0.8,\n",
    "    x=0.1,\n",
    "    y=1.28,\n",
    "    yanchor='top',\n",
    "    currentvalue=dict(\n",
    "        font=dict(size=22, family=\"Garamond\"),\n",
    "        prefix=\"\",\n",
    "        xanchor=\"center\",\n",
    "        visible=True\n",
    "    )\n",
    ")]\n",
    "\n",
    "# Show figure\n",
    "fig = go.Figure(data=data_slider,\n",
    "                layout=dict(sliders=sliders))\n",
    "\n",
    "fig.update_layout(mapbox_style=\"carto-positron\",\n",
    "                    height = 700,\n",
    "                    width = 1000,\n",
    "                    autosize=True,\n",
    "                    paper_bgcolor= \"#E8ECEB\",\n",
    "                    margin={\"r\":10,\"t\":0,\"l\":10,\"b\":0},\n",
    "                    mapbox=dict(center={\"lat\": 37.771, \"lon\": -122.4256},zoom=10.9),\n",
    "                    font_family = \"Garamond\",\n",
    "                    font_size = 18\n",
    "                    )\n",
    "fig['layout']['sliders'][0]['pad']=dict(l= 0, t= 18, b=0,)\n",
    "\n",
    "fig.show()\n",
    "#fig.write_html(\"SF_mapYearlyV2.html\")"
   ]
  },
  {
   "attachments": {},
   "cell_type": "markdown",
   "metadata": {},
   "source": [
    "## District-wise yearly crime reports (Interactive map plot) (Comparison)"
   ]
  },
  {
   "cell_type": "code",
   "execution_count": null,
   "metadata": {},
   "outputs": [],
   "source": [
    "# define traces and buttons at once\n",
    "data_slider = []\n",
    "years = [yeari for yeari in range(2008, 2024)]\n",
    "for year in years:\n",
    "    df_segmented = crime_geo_data[(crime_geo_data['Year']== year)]\n",
    "    map = go.Choroplethmapbox(geojson=json.loads(df_segmented.to_json()),\n",
    "                                    z = list(df_segmented[\"TotalReports\"]),\n",
    "                                    locations = df_segmented.index,\n",
    "                                    colorscale=GEOMAP_CMAP,\n",
    "                                    colorbar=dict(\n",
    "                                        title=f'Number of crimes',\n",
    "                                        titleside='top',\n",
    "                                        len=0.8,\n",
    "                                        orientation = \"h\",\n",
    "                                        y = -0.23),\n",
    "                                    visible=False,\n",
    "                                    hovertemplate= f\"\"\"Number of cases: \"\"\" +  \"\"\"%{z}<br>Neighborhood: %{text}<extra></extra>\"\"\",\n",
    "                                    text = df_segmented.index)\n",
    "    data_slider.append(map)\n",
    "\n",
    "# start with year 2023\n",
    "data_slider[15].visible = True\n",
    "\n",
    "steps = []\n",
    "for i in range(len(data_slider)):\n",
    "    step = dict(\n",
    "        method=\"update\",\n",
    "        args=[{\"visible\": [False] * len(data_slider)}],\n",
    "        label='{}'.format(i + 2008)  # layout attribute\n",
    "    )\n",
    "    step[\"args\"][0][\"visible\"][i] = True  # Toggle i'th trace to \"visible\"\n",
    "    steps.append(step)\n",
    "\n",
    "sliders = [dict(\n",
    "    active=15,\n",
    "    pad={\"t\": 1},\n",
    "    steps=steps,\n",
    "    len=0.8,\n",
    "    x=0.1,\n",
    "    y=1.28,\n",
    "    yanchor='top',\n",
    "    currentvalue=dict(\n",
    "        font=dict(size=22, family=\"Garamond\"),\n",
    "        prefix=\"\",\n",
    "        xanchor=\"center\",\n",
    "        visible=True\n",
    "    )\n",
    ")]\n",
    "\n",
    "# Show figure\n",
    "fig = go.Figure(data=data_slider,\n",
    "                layout=dict(sliders=sliders))\n",
    "\n",
    "fig.update_layout(mapbox_style=\"carto-positron\",\n",
    "                    height = 700,\n",
    "                    width = 1000,\n",
    "                    autosize=True,\n",
    "                    paper_bgcolor= \"#E8ECEB\",\n",
    "                    margin={\"r\":10,\"t\":0,\"l\":10,\"b\":0},\n",
    "                    mapbox=dict(center={\"lat\": 37.771, \"lon\": -122.4256},zoom=10.9),\n",
    "                    font_family = \"Garamond\",\n",
    "                    font_size = 18\n",
    "                    )\n",
    "fig['layout']['sliders'][0]['pad']=dict(l= 0, t= 18, b=0,)\n",
    "\n",
    "fig.show()\n",
    "#fig.write_html(\"SF_CrimemapYearlyV2.html\")"
   ]
  },
  {
   "attachments": {},
   "cell_type": "markdown",
   "metadata": {},
   "source": [
    "# Discussion"
   ]
  },
  {
   "cell_type": "markdown",
   "metadata": {},
   "source": []
  },
  {
   "attachments": {},
   "cell_type": "markdown",
   "metadata": {},
   "source": [
    "# Contributions"
   ]
  },
  {
   "cell_type": "markdown",
   "metadata": {},
   "source": []
  }
 ],
 "metadata": {
  "kernelspec": {
   "display_name": "base",
   "language": "python",
   "name": "python3"
  },
  "language_info": {
   "codemirror_mode": {
    "name": "ipython",
    "version": 3
   },
   "file_extension": ".py",
   "mimetype": "text/x-python",
   "name": "python",
   "nbconvert_exporter": "python",
   "pygments_lexer": "ipython3",
   "version": "3.8.12"
  },
  "orig_nbformat": 4
 },
 "nbformat": 4,
 "nbformat_minor": 2
}
